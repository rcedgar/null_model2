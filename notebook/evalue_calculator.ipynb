{
  "nbformat": 4,
  "nbformat_minor": 0,
  "metadata": {
    "colab": {
      "provenance": []
    },
    "kernelspec": {
      "name": "python3",
      "display_name": "Python 3"
    },
    "language_info": {
      "name": "python"
    }
  },
  "cells": [
    {
      "cell_type": "code",
      "source": [
        "#@markdown # Prepare files\n",
        "\n",
        "!for file in bayes_evalue.py fitted_params.py report_null_model_evalues.py; do \\\n",
        "wget -q https://raw.githubusercontent.com/rcedgar/null_model2/refs/heads/main/py/${file} -O ${file}; \\\n",
        "done\n",
        "\n",
        "import pandas as pd\n",
        "from google.colab import files\n",
        "import io\n",
        "import ipywidgets as widgets\n",
        "from IPython.display import display\n",
        "\n",
        "import math\n",
        "from bayes_evalue import *\n",
        "\n",
        "print(\"Please upload your TSV file.\")\n",
        "uploaded = files.upload()\n",
        "\n",
        "if not uploaded:\n",
        "    print(\"No file uploaded. Please try again.\")\n",
        "filename = next(iter(uploaded))\n",
        "\n"
      ],
      "metadata": {
        "cellView": "form",
        "id": "eWtebPIANxli"
      },
      "execution_count": null,
      "outputs": []
    },
    {
      "cell_type": "code",
      "source": [
        "#@markdown Select parameters\n",
        "\n",
        "score_type = \"Foldsek E-value\" #@param ['Foldsek E-value', 'DALI Z-score', 'TM-score']\n",
        "column = \"3\" #@param {type:\"string\"}\n",
        "dbsize = \"10000\" #@param {type:\"string\"}\n",
        "dbsize = int(dbsize)\n",
        "calibration = \"scop40c\" #@param ['scop40c', 'scop40']\n",
        "\n",
        "#@markdown ---\n"
      ],
      "metadata": {
        "cellView": "form",
        "id": "5JNAx08xQ_3z"
      },
      "execution_count": null,
      "outputs": []
    },
    {
      "cell_type": "code",
      "source": [
        "#@markdown Calculate E-values\n",
        "\n",
        "# 0-based column nr.\n",
        "colnr = int(column) -1 # 0-based column nr.\n",
        "refdb = calibration\n",
        "\n",
        "\n",
        "fin = open(filename, \"r\")\n",
        "fout = open(\"updated_E_values.tsv\", \"w\")\n",
        "\n",
        "hdr = fin.readline()[:-1] + \"\\tE-value_null\\n\"\n",
        "fout.write(hdr)\n",
        "\n",
        "if score_type == \"TM-score\":\n",
        "\talgo = \"tm\"\n",
        "\th = 1\n",
        "\tPF = 1\n",
        "elif score_type == \"DALI Z-score\":\n",
        "\talgo = \"dali\"\n",
        "\th = 0.04\n",
        "\tPF = 0.5\n",
        "elif score_type == \"Foldsek E-value\":\n",
        "\talgo = \"foldseek\"\n",
        "\th = 0.04\n",
        "\tPF = 0.5\n",
        "else:\n",
        "\tassert False, \"invalid --score \" + str(Args.score)\n",
        "\n",
        "m, c = get_m_c(\"foldseek\", \"scop40\")\n",
        "m_c, c_c = get_m_c(\"foldseek\", \"scop40c\")\n",
        "\n",
        "def evalue_str(s):\n",
        "\tif score_type == \"E\":\n",
        "\t\tEprime = 0.05*(s**0.5 + 0.1*s**0.25)\n",
        "\t\tr = dbsize**0.68\n",
        "\t\tE = r*Eprime\n",
        "\t\tif refdb == \"scop40\":\n",
        "\t\t\tE *= 2.5\n",
        "\telse:\n",
        "\t\tE = estimate_FPEPQ(algo, refdb, s, dbsize, PF, h)\n",
        "\tif E > 10:\n",
        "\t\treturn \">10\"\n",
        "\treturn \"%.2g\" % E\n",
        "\n",
        "for line in fin:\n",
        "\tline = line[:-1]\n",
        "\tflds = line.split('\\t')\n",
        "\ts = float(flds[colnr])\n",
        "\tline += \"\\t\" + evalue_str(s)\n",
        "\tfout.write(line+ \"\\n\")\n",
        "\tprint(line)\n"
      ],
      "metadata": {
        "cellView": "form",
        "id": "GVQAPZGLOFrC"
      },
      "execution_count": null,
      "outputs": []
    },
    {
      "cell_type": "code",
      "source": [
        "#@markdown Donwload updated table\n",
        "\n",
        "files.download('updated_E_values.tsv')"
      ],
      "metadata": {
        "colab": {
          "base_uri": "https://localhost:8080/",
          "height": 17
        },
        "cellView": "form",
        "id": "Kn4vr-JrOr8i",
        "outputId": "db3236aa-2a6a-432b-d8cf-718a50d26bba"
      },
      "execution_count": null,
      "outputs": [
        {
          "output_type": "display_data",
          "data": {
            "text/plain": [
              "<IPython.core.display.Javascript object>"
            ],
            "application/javascript": [
              "\n",
              "    async function download(id, filename, size) {\n",
              "      if (!google.colab.kernel.accessAllowed) {\n",
              "        return;\n",
              "      }\n",
              "      const div = document.createElement('div');\n",
              "      const label = document.createElement('label');\n",
              "      label.textContent = `Downloading \"${filename}\": `;\n",
              "      div.appendChild(label);\n",
              "      const progress = document.createElement('progress');\n",
              "      progress.max = size;\n",
              "      div.appendChild(progress);\n",
              "      document.body.appendChild(div);\n",
              "\n",
              "      const buffers = [];\n",
              "      let downloaded = 0;\n",
              "\n",
              "      const channel = await google.colab.kernel.comms.open(id);\n",
              "      // Send a message to notify the kernel that we're ready.\n",
              "      channel.send({})\n",
              "\n",
              "      for await (const message of channel.messages) {\n",
              "        // Send a message to notify the kernel that we're ready.\n",
              "        channel.send({})\n",
              "        if (message.buffers) {\n",
              "          for (const buffer of message.buffers) {\n",
              "            buffers.push(buffer);\n",
              "            downloaded += buffer.byteLength;\n",
              "            progress.value = downloaded;\n",
              "          }\n",
              "        }\n",
              "      }\n",
              "      const blob = new Blob(buffers, {type: 'application/binary'});\n",
              "      const a = document.createElement('a');\n",
              "      a.href = window.URL.createObjectURL(blob);\n",
              "      a.download = filename;\n",
              "      div.appendChild(a);\n",
              "      a.click();\n",
              "      div.remove();\n",
              "    }\n",
              "  "
            ]
          },
          "metadata": {}
        },
        {
          "output_type": "display_data",
          "data": {
            "text/plain": [
              "<IPython.core.display.Javascript object>"
            ],
            "application/javascript": [
              "download(\"download_dc50370b-8719-4be7-99fb-c79e6b3e3e8e\", \"updated_E_values.tsv\", 525855)"
            ]
          },
          "metadata": {}
        }
      ]
    }
  ]
}